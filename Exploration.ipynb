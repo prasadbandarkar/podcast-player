{
 "cells": [
  {
   "cell_type": "code",
   "execution_count": 1,
   "id": "a93536fb-6ed1-4d45-a4de-ce9726cb9b13",
   "metadata": {},
   "outputs": [],
   "source": [
    "BTB_RSS_URL = \"https://omnycontent.com/d/playlist/e73c998e-6e60-432f-8610-ae210140c5b1/E5F91208-CC7E-4726-A312-AE280140AD11/D64F756D-6D5E-4FAE-B24F-AE280140AD36/podcast.rss\""
   ]
  },
  {
   "cell_type": "code",
   "execution_count": 2,
   "id": "f7b574dc",
   "metadata": {},
   "outputs": [],
   "source": [
    "import feedparser\n",
    "entries = feedparser.parse(BTB_RSS_URL).entries"
   ]
  },
  {
   "cell_type": "code",
   "execution_count": 7,
   "id": "fa387197",
   "metadata": {},
   "outputs": [
    {
     "name": "stdout",
     "output_type": "stream",
     "text": [
      "dict_keys(['title', 'title_detail', 'itunes_title', 'summary', 'summary_detail', 'content', 'itunes_episodetype', 'authors', 'author', 'author_detail', 'image', 'media_content', 'media_player', 'id', 'guidislink', 'omny_clipid', 'published', 'published_parsed', 'itunes_duration', 'links', 'link', 'podcast_transcript'])\n"
     ]
    }
   ],
   "source": [
    "print(entries[0].keys())"
   ]
  },
  {
   "cell_type": "code",
   "execution_count": 12,
   "id": "d7759337",
   "metadata": {},
   "outputs": [
    {
     "name": "stdout",
     "output_type": "stream",
     "text": [
      "title <class 'str'>\n",
      "title_detail <class 'feedparser.util.FeedParserDict'>\n",
      "itunes_title <class 'str'>\n",
      "summary <class 'str'>\n",
      "summary_detail <class 'feedparser.util.FeedParserDict'>\n",
      "content <class 'list'>\n",
      "itunes_episodetype <class 'str'>\n",
      "authors <class 'list'>\n",
      "author <class 'str'>\n",
      "author_detail <class 'feedparser.util.FeedParserDict'>\n",
      "image <class 'feedparser.util.FeedParserDict'>\n",
      "media_content <class 'list'>\n",
      "media_player <class 'feedparser.util.FeedParserDict'>\n",
      "id <class 'str'>\n",
      "guidislink <class 'bool'>\n",
      "omny_clipid <class 'str'>\n",
      "published <class 'str'>\n",
      "published_parsed <class 'time.struct_time'>\n",
      "itunes_duration <class 'str'>\n",
      "links <class 'list'>\n",
      "link <class 'str'>\n",
      "podcast_transcript <class 'dict'>\n"
     ]
    }
   ],
   "source": [
    "for key, value in entries[0].items():\n",
    "    print(f'{key} {type(value)}')"
   ]
  },
  {
   "cell_type": "code",
   "execution_count": 13,
   "id": "22f31b96",
   "metadata": {},
   "outputs": [],
   "source": [
    "from_text=feedparser.parse('BTB.rss')"
   ]
  },
  {
   "cell_type": "code",
   "execution_count": 14,
   "id": "b6740334",
   "metadata": {},
   "outputs": [
    {
     "data": {
      "text/plain": [
       "dict_keys(['bozo', 'entries', 'feed', 'headers', 'encoding', 'version', 'namespaces'])"
      ]
     },
     "execution_count": 14,
     "metadata": {},
     "output_type": "execute_result"
    }
   ],
   "source": [
    "from_text.keys()"
   ]
  },
  {
   "cell_type": "code",
   "execution_count": 15,
   "id": "2df06857",
   "metadata": {},
   "outputs": [
    {
     "name": "stdout",
     "output_type": "stream",
     "text": [
      "bozo <class 'bool'>\n",
      "entries <class 'list'>\n",
      "feed <class 'feedparser.util.FeedParserDict'>\n",
      "headers <class 'dict'>\n",
      "encoding <class 'str'>\n",
      "version <class 'str'>\n",
      "namespaces <class 'dict'>\n"
     ]
    }
   ],
   "source": [
    "for key, value in from_text.items():\n",
    "    print(f'{key} {type(value)}')"
   ]
  },
  {
   "cell_type": "code",
   "execution_count": 26,
   "id": "944461e0",
   "metadata": {},
   "outputs": [
    {
     "name": "stdout",
     "output_type": "stream",
     "text": [
      "encoding utf-8\n",
      "version rss20\n"
     ]
    }
   ],
   "source": [
    "for key, value in from_text.items():\n",
    "    if type(value) == str:\n",
    "        print(f'{key} {value}')\n",
    "    "
   ]
  },
  {
   "cell_type": "code",
   "execution_count": 30,
   "id": "c831b5fc",
   "metadata": {},
   "outputs": [
    {
     "data": {
      "text/plain": [
       "'http://www.w3.org/2005/Atom'"
      ]
     },
     "execution_count": 30,
     "metadata": {},
     "output_type": "execute_result"
    }
   ],
   "source": [
    "from_text.namespaces['']"
   ]
  },
  {
   "cell_type": "code",
   "execution_count": 24,
   "id": "ce02d9d1",
   "metadata": {},
   "outputs": [
    {
     "data": {
      "text/plain": [
       "type"
      ]
     },
     "execution_count": 24,
     "metadata": {},
     "output_type": "execute_result"
    }
   ],
   "source": [
    "type(type(from_text.bozo))"
   ]
  },
  {
   "cell_type": "code",
   "execution_count": 28,
   "id": "d4cc6dc7",
   "metadata": {},
   "outputs": [],
   "source": [
    "import json\n",
    "with open('BTB.json', 'w') as f:\n",
    "    json.dump(from_text, f)"
   ]
  },
  {
   "cell_type": "code",
   "execution_count": 31,
   "id": "e2c7c0f9",
   "metadata": {},
   "outputs": [
    {
     "data": {
      "text/plain": [
       "dict_keys(['title', 'title_detail', 'itunes_title', 'summary', 'summary_detail', 'content', 'itunes_episodetype', 'authors', 'author', 'author_detail', 'image', 'media_content', 'media_player', 'id', 'guidislink', 'omny_clipid', 'published', 'published_parsed', 'itunes_duration', 'links', 'link', 'podcast_transcript'])"
      ]
     },
     "execution_count": 31,
     "metadata": {},
     "output_type": "execute_result"
    }
   ],
   "source": [
    "from_text['entries'][0].keys()"
   ]
  },
  {
   "cell_type": "code",
   "execution_count": null,
   "id": "350d2890",
   "metadata": {},
   "outputs": [],
   "source": []
  }
 ],
 "metadata": {
  "kernelspec": {
   "display_name": "Python 3 (ipykernel)",
   "language": "python",
   "name": "python3"
  },
  "language_info": {
   "codemirror_mode": {
    "name": "ipython",
    "version": 3
   },
   "file_extension": ".py",
   "mimetype": "text/x-python",
   "name": "python",
   "nbconvert_exporter": "python",
   "pygments_lexer": "ipython3",
   "version": "3.11.2"
  }
 },
 "nbformat": 4,
 "nbformat_minor": 5
}
