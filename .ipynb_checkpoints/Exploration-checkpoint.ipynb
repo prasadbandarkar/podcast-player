{
 "cells": [
  {
   "cell_type": "code",
   "execution_count": null,
   "id": "a93536fb-6ed1-4d45-a4de-ce9726cb9b13",
   "metadata": {},
   "outputs": [],
   "source": [
    "import feedparser\n"
   ]
  }
 ],
 "metadata": {
  "kernelspec": {
   "display_name": "Python 3 (ipykernel)",
   "language": "python",
   "name": "python3"
  },
  "language_info": {
   "codemirror_mode": {
    "name": "ipython",
    "version": 3
   },
   "file_extension": ".py",
   "mimetype": "text/x-python",
   "name": "python",
   "nbconvert_exporter": "python",
   "pygments_lexer": "ipython3",
   "version": "3.11.2"
  }
 },
 "nbformat": 4,
 "nbformat_minor": 5
}
